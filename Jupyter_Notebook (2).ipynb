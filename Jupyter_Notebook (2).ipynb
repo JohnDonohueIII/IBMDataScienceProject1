{
 "cells": [
  {
   "cell_type": "markdown",
   "metadata": {},
   "source": [
    "<center>\n",
    "    <img src=\"https://s3-api.us-geo.objectstorage.softlayer.net/cf-courses-data/CognitiveClass/Logos/organization_logo/organization_logo.png\" width=\"300\" alt=\"cognitiveclass.ai logo\"  />\n",
    "</center>\n"
   ]
  },
  {
   "cell_type": "markdown",
   "metadata": {},
   "source": [
    "#### Add your code below following the instructions given in the course\n"
   ]
  },
  {
   "cell_type": "markdown",
   "metadata": {},
   "source": [
    "<h1>My Jupyter Notebook on IBM Watson Studio</h1>"
   ]
  },
  {
   "cell_type": "markdown",
   "metadata": {},
   "source": [
    "**John Donohue**\n",
    "<Br>Desired Occupation: Data Scientist"
   ]
  },
  {
   "cell_type": "markdown",
   "metadata": {},
   "source": [
    "*I'm interested in Data Science because I enjoy analyzing data sets for patterns and behavior, and using said analyses to provide insights that are valuable to my co-workers, friends, family, and the world*"
   ]
  },
  {
   "cell_type": "markdown",
   "metadata": {},
   "source": [
    "### The code in cell 5 is telling the reader what my name is, and what my favorite number is"
   ]
  },
  {
   "cell_type": "code",
   "execution_count": 17,
   "metadata": {},
   "outputs": [
    {
     "name": "stdout",
     "output_type": "stream",
     "text": [
      "This notebook belongs to John, and his favorite number is 8\n"
     ]
    }
   ],
   "source": [
    "name = 'John'\n",
    "favoriteNumber = '8'\n",
    "print('This notebook belongs to ' + name + ', and his favorite number is ' + favoriteNumber)"
   ]
  },
  {
   "cell_type": "markdown",
   "metadata": {},
   "source": [
    "# Cell 6: The Table, The Image, and the Bulleted List\n",
    "\n",
    "| Name | Age | Favorite Exercise | Favorite Food |\n",
    "| --- | --- | --- | --- |\n",
    "| John | 27 | Bicep Curl | Buffalo Chicken Sandwhich |\n",
    "\n",
    "## My favorite meme (still counts as an image since its a gif):\n",
    "<img src=\"https://gifimage.net/wp-content/uploads/2018/11/tom-hardy-dancing-gif-7.gif\" alt=\"Tom Hardy dancing and memeing\" title=\"Meme\" />\n",
    "\n",
    "## Here is a bulleted list of things I don't like:\n",
    "* TikTok\n",
    "* Corrupt politicians \n",
    "* When someone eats my leftovers"
   ]
  },
  {
   "cell_type": "code",
   "execution_count": null,
   "metadata": {},
   "outputs": [],
   "source": []
  }
 ],
 "metadata": {
  "kernelspec": {
   "display_name": "Python",
   "language": "python",
   "name": "conda-env-python-py"
  },
  "language_info": {
   "codemirror_mode": {
    "name": "ipython",
    "version": 3
   },
   "file_extension": ".py",
   "mimetype": "text/x-python",
   "name": "python",
   "nbconvert_exporter": "python",
   "pygments_lexer": "ipython3",
   "version": "3.7.12"
  }
 },
 "nbformat": 4,
 "nbformat_minor": 4
}
